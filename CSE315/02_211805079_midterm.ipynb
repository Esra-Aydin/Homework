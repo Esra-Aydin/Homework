version https://git-lfs.github.com/spec/v1
oid sha256:69eddc6de2c92689ba1ec9a0cc3389c248f9d3e8a21e5ddd88d9de74dc40e702
size 860354
